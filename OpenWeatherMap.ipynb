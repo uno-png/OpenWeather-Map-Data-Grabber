{
 "cells": [
  {
   "cell_type": "code",
   "execution_count": 3,
   "metadata": {},
   "outputs": [
    {
     "data": {
      "text/html": [
       "<div>\n",
       "<style scoped>\n",
       "    .dataframe tbody tr th:only-of-type {\n",
       "        vertical-align: middle;\n",
       "    }\n",
       "\n",
       "    .dataframe tbody tr th {\n",
       "        vertical-align: top;\n",
       "    }\n",
       "\n",
       "    .dataframe thead th {\n",
       "        text-align: right;\n",
       "    }\n",
       "</style>\n",
       "<table border=\"1\" class=\"dataframe\">\n",
       "  <thead>\n",
       "    <tr style=\"text-align: right;\">\n",
       "      <th></th>\n",
       "      <th>year</th>\n",
       "      <th>month</th>\n",
       "      <th>day</th>\n",
       "      <th>hour</th>\n",
       "      <th>minute</th>\n",
       "      <th>min_temp</th>\n",
       "      <th>max_temp</th>\n",
       "      <th>rainfall</th>\n",
       "    </tr>\n",
       "  </thead>\n",
       "  <tbody>\n",
       "  </tbody>\n",
       "</table>\n",
       "</div>"
      ],
      "text/plain": [
       "Empty DataFrame\n",
       "Columns: [year, month, day, hour, minute, min_temp, max_temp, rainfall]\n",
       "Index: []"
      ]
     },
     "execution_count": 3,
     "metadata": {},
     "output_type": "execute_result"
    }
   ],
   "source": [
    "# create openWeatherData.csv\n",
    "\n",
    "import pandas as pd\n",
    "\n",
    "df = pd.DataFrame({'year': [], 'month': [], 'day': [], 'hour': [], 'minute': [], 'min_temp': [], 'max_temp': [], 'rainfall': []})\n",
    "\n",
    "df.to_csv('C:\\\\Users\\\\Issa\\\\Documents\\\\01 - College Files\\\\Project Management 2\\\\Main\\\\openWeatherData.csv', index=False)\n",
    "\n",
    "df.head()"
   ]
  },
  {
   "cell_type": "code",
   "execution_count": 3,
   "metadata": {},
   "outputs": [
    {
     "data": {
      "text/html": [
       "<div>\n",
       "<style scoped>\n",
       "    .dataframe tbody tr th:only-of-type {\n",
       "        vertical-align: middle;\n",
       "    }\n",
       "\n",
       "    .dataframe tbody tr th {\n",
       "        vertical-align: top;\n",
       "    }\n",
       "\n",
       "    .dataframe thead th {\n",
       "        text-align: right;\n",
       "    }\n",
       "</style>\n",
       "<table border=\"1\" class=\"dataframe\">\n",
       "  <thead>\n",
       "    <tr style=\"text-align: right;\">\n",
       "      <th></th>\n",
       "      <th>year</th>\n",
       "      <th>month</th>\n",
       "      <th>day</th>\n",
       "      <th>hour</th>\n",
       "      <th>minute</th>\n",
       "      <th>min_temp</th>\n",
       "      <th>max_temp</th>\n",
       "      <th>rainfall</th>\n",
       "    </tr>\n",
       "  </thead>\n",
       "  <tbody>\n",
       "  </tbody>\n",
       "</table>\n",
       "</div>"
      ],
      "text/plain": [
       "Empty DataFrame\n",
       "Columns: [year, month, day, hour, minute, min_temp, max_temp, rainfall]\n",
       "Index: []"
      ]
     },
     "execution_count": 3,
     "metadata": {},
     "output_type": "execute_result"
    }
   ],
   "source": [
    "# Display openWeatherData.csv contents (for testing)\n",
    "import pandas as pd\n",
    "\n",
    "path_openWeatherData = \"C:\\\\Users\\\\Issa\\\\Documents\\\\01 - College Files\\\\Project Management 2\\\\Main\\\\openWeatherData.csv\"\n",
    "\n",
    "df = pd.read_csv(path_openWeatherData)\n",
    "\n",
    "df.head()"
   ]
  },
  {
   "cell_type": "code",
   "execution_count": 2,
   "metadata": {},
   "outputs": [
    {
     "data": {
      "text/html": [
       "<div>\n",
       "<style scoped>\n",
       "    .dataframe tbody tr th:only-of-type {\n",
       "        vertical-align: middle;\n",
       "    }\n",
       "\n",
       "    .dataframe tbody tr th {\n",
       "        vertical-align: top;\n",
       "    }\n",
       "\n",
       "    .dataframe thead th {\n",
       "        text-align: right;\n",
       "    }\n",
       "</style>\n",
       "<table border=\"1\" class=\"dataframe\">\n",
       "  <thead>\n",
       "    <tr style=\"text-align: right;\">\n",
       "      <th></th>\n",
       "      <th>year</th>\n",
       "      <th>month</th>\n",
       "      <th>day</th>\n",
       "      <th>hour</th>\n",
       "      <th>minute</th>\n",
       "      <th>min_temp</th>\n",
       "      <th>max_temp</th>\n",
       "      <th>rainfall</th>\n",
       "    </tr>\n",
       "  </thead>\n",
       "  <tbody>\n",
       "  </tbody>\n",
       "</table>\n",
       "</div>"
      ],
      "text/plain": [
       "Empty DataFrame\n",
       "Columns: [year, month, day, hour, minute, min_temp, max_temp, rainfall]\n",
       "Index: []"
      ]
     },
     "execution_count": 2,
     "metadata": {},
     "output_type": "execute_result"
    }
   ],
   "source": [
    "# DELETE openWeatherData.csv contents (for testing)\n",
    "import pandas as pd\n",
    "\n",
    "path_openWeatherData = \"C:\\\\Users\\\\Issa\\\\Documents\\\\01 - College Files\\\\Project Management 2\\\\Main\\\\openWeatherData.csv\"\n",
    "\n",
    "df = pd.read_csv(path_openWeatherData)\n",
    "\n",
    "df.drop(df.index[0:], inplace=True)\n",
    "\n",
    "df.to_csv(path_openWeatherData, index=False, mode='w')\n",
    "\n",
    "df.head()"
   ]
  },
  {
   "cell_type": "code",
   "execution_count": 5,
   "metadata": {},
   "outputs": [
    {
     "name": "stdout",
     "output_type": "stream",
     "text": [
      "Current time is not within the specified time range (1pm-4pm)\n"
     ]
    }
   ],
   "source": [
    "# Fetch Current Weather Data\n",
    "import requests\n",
    "import pandas as pd\n",
    "from datetime import datetime\n",
    "import pytz\n",
    "\n",
    "path_openWeatherData = \"C:\\\\Users\\\\Issa\\\\Documents\\\\01 - College Files\\\\Project Management 2\\\\Main\\\\openWeatherData.csv\"\n",
    "\n",
    "# Replace YOUR_API_KEY with your actual API key\n",
    "api_key = '4c3e2a766c6698e331c26ea396103a71'\n",
    "\n",
    "# Specify the latitude and longitude\n",
    "lat = 14.393530\n",
    "lon = 121.193945\n",
    "\n",
    "# Define the API endpoint and parameters\n",
    "url = 'https://api.openweathermap.org/data/2.5/weather'\n",
    "params = {'lat': lat, 'lon': lon, 'appid': api_key, 'units': 'metric'}\n",
    "\n",
    "# Set the timezone\n",
    "timezone = pytz.timezone('Asia/Manila')\n",
    "\n",
    "# Get the current date and time\n",
    "now = datetime.now(timezone)\n",
    "year = now.year\n",
    "month = now.month\n",
    "day = now.day\n",
    "hour = now.hour\n",
    "minute = now.minute\n",
    "\n",
    "# Check if current time is within the specified time range (1pm-4pm)\n",
    "if hour < 6 or hour > 10:\n",
    "    print(\"Current time is not within the specified time range (1pm-4pm)\")\n",
    "else:\n",
    "    # Check if data for current date and time has already been stored\n",
    "    df_existing = pd.read_csv(path_openWeatherData)\n",
    "    existing_data = df_existing[(df_existing['year']==year) & (df_existing['month']==month) & (df_existing['day']==day)]\n",
    "    if not existing_data.empty:\n",
    "        print(\"Data for current date and time already exists\")\n",
    "    else:\n",
    "        # Send the request and get the response\n",
    "        response = requests.get(url, params=params)\n",
    "        data = response.json()\n",
    "\n",
    "        # Extract the relevant data from the response\n",
    "        min_temp = data['main']['temp_min']\n",
    "        max_temp = data['main']['temp_max']\n",
    "        rainfall = data.get('rain', {}).get('1h', 0)\n",
    "\n",
    "        # Create a DataFrame to store the data\n",
    "        df_openWeatherData = pd.DataFrame({\n",
    "            'year': [year],\n",
    "            'month': [month],\n",
    "            'day': [day],\n",
    "            'hour': [hour],\n",
    "            'minute': [minute],\n",
    "            'min_temp': [min_temp],\n",
    "            'max_temp': [max_temp],\n",
    "            'rainfall': [rainfall]\n",
    "        })\n",
    "        \n",
    "        # Append the new data to the existing DataFrame and save to file\n",
    "        df_existing = df_existing.append(df_openWeatherData)\n",
    "        df_existing.to_csv(path_openWeatherData, index=False, mode='w')\n",
    "\n",
    "        df_existing.head()\n",
    "        # Print the results\n",
    "        print(\"Data successfully stored\")"
   ]
  }
 ],
 "metadata": {
  "kernelspec": {
   "display_name": "Python 3",
   "language": "python",
   "name": "python3"
  },
  "language_info": {
   "codemirror_mode": {
    "name": "ipython",
    "version": 3
   },
   "file_extension": ".py",
   "mimetype": "text/x-python",
   "name": "python",
   "nbconvert_exporter": "python",
   "pygments_lexer": "ipython3",
   "version": "3.11.3"
  },
  "orig_nbformat": 4
 },
 "nbformat": 4,
 "nbformat_minor": 2
}
