{
 "cells": [
  {
   "cell_type": "code",
   "execution_count": null,
   "metadata": {},
   "outputs": [],
   "source": [
    "# create openWeatherData.csv\n",
    "\n",
    "import pandas as pd\n",
    "\n",
    "df = pd.DataFrame({'year': [], 'month': [], 'day': [], 'hour': [], 'minute': [], 'min_temp': [], 'max_temp': [], 'rainfall': []})\n",
    "\n",
    "df.to_csv('/content/drive/Shareddrives/algaecast/CSV Files/openWeatherData.csv', index=False)\n",
    "\n",
    "df.head()"
   ]
  },
  {
   "cell_type": "code",
   "execution_count": null,
   "metadata": {},
   "outputs": [],
   "source": [
    "# Display openWeatherData.csv contents (for testing)\n",
    "import pandas as pd\n",
    "\n",
    "path_openWeatherData = \"/content/drive/Shareddrives/algaecast/CSV Files/openWeatherData.csv\"\n",
    "\n",
    "df = pd.read_csv(path_openWeatherData)\n",
    "\n",
    "df.head()"
   ]
  }
 ],
 "metadata": {
  "language_info": {
   "name": "python"
  },
  "orig_nbformat": 4
 },
 "nbformat": 4,
 "nbformat_minor": 2
}
